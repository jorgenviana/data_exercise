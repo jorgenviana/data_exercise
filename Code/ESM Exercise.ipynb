{
 "cells": [
  {
   "cell_type": "markdown",
   "source": [
    "# ESM Exercise Selection\n"
   ],
   "metadata": {
    "collapsed": false
   }
  },
  {
   "cell_type": "markdown",
   "source": [
    "# I IMPORT PACKAGES"
   ],
   "metadata": {
    "collapsed": false
   }
  },
  {
   "cell_type": "code",
   "execution_count": 195,
   "outputs": [],
   "source": [
    "import pandas as pd\n",
    "import numpy as np\n",
    "import os\n",
    "\n",
    "from pathlib import Path"
   ],
   "metadata": {
    "collapsed": false,
    "ExecuteTime": {
     "end_time": "2023-07-19T16:07:42.408478Z",
     "start_time": "2023-07-19T16:07:42.391518800Z"
    }
   }
  },
  {
   "cell_type": "markdown",
   "source": [
    "# II SETING UP DIRECTORIES"
   ],
   "metadata": {
    "collapsed": false
   }
  },
  {
   "cell_type": "code",
   "execution_count": 196,
   "outputs": [],
   "source": [
    "os.chdir(\"G:\\Meu Drive\\Selection\\esm_selection\")\n",
    "\n",
    "root_dir = Path(os.getcwd())\n",
    "data_dir = Path(root_dir, \"Data/\")\n",
    "input_dir = Path(data_dir, \"Input/\")\n",
    "output_dir = Path(data_dir, \"Output\")"
   ],
   "metadata": {
    "collapsed": false,
    "ExecuteTime": {
     "end_time": "2023-07-19T16:07:42.931818500Z",
     "start_time": "2023-07-19T16:07:42.913878400Z"
    }
   }
  },
  {
   "cell_type": "markdown",
   "source": [
    "# 1 OPEN DATA"
   ],
   "metadata": {
    "collapsed": false
   }
  },
  {
   "cell_type": "code",
   "execution_count": 197,
   "outputs": [
    {
     "data": {
      "text/plain": "               data        group             y\ncount          4600  4600.000000   4600.000000\nunique          230          NaN           NaN\ntop     01-Oct-2002          NaN           NaN\nfreq             21          NaN           NaN\nmean            NaN    10.500000     31.732664\nstd             NaN     5.766908   1474.257530\nmin             NaN     1.000000      6.954679\n25%             NaN     5.750000      9.800119\n50%             NaN    10.500000      9.997224\n75%             NaN    15.250000     10.196649\nmax             NaN    20.000000  99999.000000",
      "text/html": "<div>\n<style scoped>\n    .dataframe tbody tr th:only-of-type {\n        vertical-align: middle;\n    }\n\n    .dataframe tbody tr th {\n        vertical-align: top;\n    }\n\n    .dataframe thead th {\n        text-align: right;\n    }\n</style>\n<table border=\"1\" class=\"dataframe\">\n  <thead>\n    <tr style=\"text-align: right;\">\n      <th></th>\n      <th>data</th>\n      <th>group</th>\n      <th>y</th>\n    </tr>\n  </thead>\n  <tbody>\n    <tr>\n      <th>count</th>\n      <td>4600</td>\n      <td>4600.000000</td>\n      <td>4600.000000</td>\n    </tr>\n    <tr>\n      <th>unique</th>\n      <td>230</td>\n      <td>NaN</td>\n      <td>NaN</td>\n    </tr>\n    <tr>\n      <th>top</th>\n      <td>01-Oct-2002</td>\n      <td>NaN</td>\n      <td>NaN</td>\n    </tr>\n    <tr>\n      <th>freq</th>\n      <td>21</td>\n      <td>NaN</td>\n      <td>NaN</td>\n    </tr>\n    <tr>\n      <th>mean</th>\n      <td>NaN</td>\n      <td>10.500000</td>\n      <td>31.732664</td>\n    </tr>\n    <tr>\n      <th>std</th>\n      <td>NaN</td>\n      <td>5.766908</td>\n      <td>1474.257530</td>\n    </tr>\n    <tr>\n      <th>min</th>\n      <td>NaN</td>\n      <td>1.000000</td>\n      <td>6.954679</td>\n    </tr>\n    <tr>\n      <th>25%</th>\n      <td>NaN</td>\n      <td>5.750000</td>\n      <td>9.800119</td>\n    </tr>\n    <tr>\n      <th>50%</th>\n      <td>NaN</td>\n      <td>10.500000</td>\n      <td>9.997224</td>\n    </tr>\n    <tr>\n      <th>75%</th>\n      <td>NaN</td>\n      <td>15.250000</td>\n      <td>10.196649</td>\n    </tr>\n    <tr>\n      <th>max</th>\n      <td>NaN</td>\n      <td>20.000000</td>\n      <td>99999.000000</td>\n    </tr>\n  </tbody>\n</table>\n</div>"
     },
     "execution_count": 197,
     "metadata": {},
     "output_type": "execute_result"
    }
   ],
   "source": [
    "database = (pd.read_table(Path(input_dir, \"trainingdata.csv\"), sep = \",\", header= None)\n",
    "        .rename(columns = {1: \"group\",\n",
    "                           0: \"data\",\n",
    "                           2: \"y\"},)\n",
    "        )\n",
    "\n",
    "database.describe(include = \"all\")"
   ],
   "metadata": {
    "collapsed": false,
    "ExecuteTime": {
     "end_time": "2023-07-19T16:07:43.190491200Z",
     "start_time": "2023-07-19T16:07:43.023031300Z"
    }
   }
  },
  {
   "cell_type": "code",
   "execution_count": 198,
   "outputs": [
    {
     "name": "stdout",
     "output_type": "stream",
     "text": [
      "<class 'pandas.core.frame.DataFrame'>\n",
      "RangeIndex: 4600 entries, 0 to 4599\n",
      "Data columns (total 3 columns):\n",
      " #   Column  Non-Null Count  Dtype  \n",
      "---  ------  --------------  -----  \n",
      " 0   data    4600 non-null   object \n",
      " 1   group   4600 non-null   int64  \n",
      " 2   y       4600 non-null   float64\n",
      "dtypes: float64(1), int64(1), object(1)\n",
      "memory usage: 107.9+ KB\n"
     ]
    }
   ],
   "source": [
    "database.info()"
   ],
   "metadata": {
    "collapsed": false,
    "ExecuteTime": {
     "end_time": "2023-07-19T16:07:43.191495900Z",
     "start_time": "2023-07-19T16:07:43.043962100Z"
    }
   }
  },
  {
   "cell_type": "markdown",
   "source": [
    "With .info() we can`t see any missing data, but with .describe() we can see there is y value faraway from rest."
   ],
   "metadata": {
    "collapsed": false
   }
  },
  {
   "cell_type": "markdown",
   "source": [
    "# 2 DATA MANIPULATION"
   ],
   "metadata": {
    "collapsed": false
   }
  },
  {
   "cell_type": "code",
   "execution_count": 199,
   "outputs": [
    {
     "ename": "ValueError",
     "evalue": "Index contains duplicate entries, cannot reshape",
     "output_type": "error",
     "traceback": [
      "\u001B[1;31m---------------------------------------------------------------------------\u001B[0m",
      "\u001B[1;31mValueError\u001B[0m                                Traceback (most recent call last)",
      "Cell \u001B[1;32mIn[199], line 1\u001B[0m\n\u001B[1;32m----> 1\u001B[0m data_transformed \u001B[38;5;241m=\u001B[39m (\u001B[43mdatabase\u001B[49m\n\u001B[0;32m      2\u001B[0m \u001B[43m                    \u001B[49m\u001B[38;5;241;43m.\u001B[39;49m\u001B[43mpivot\u001B[49m\u001B[43m(\u001B[49m\u001B[43mindex\u001B[49m\u001B[43m \u001B[49m\u001B[38;5;241;43m=\u001B[39;49m\u001B[43m \u001B[49m\u001B[43m[\u001B[49m\u001B[38;5;124;43m\"\u001B[39;49m\u001B[38;5;124;43mdata\u001B[39;49m\u001B[38;5;124;43m\"\u001B[39;49m\u001B[43m]\u001B[49m\u001B[43m,\u001B[49m\n\u001B[0;32m      3\u001B[0m \u001B[43m                           \u001B[49m\u001B[43mcolumns\u001B[49m\u001B[43m \u001B[49m\u001B[38;5;241;43m=\u001B[39;49m\u001B[43m \u001B[49m\u001B[43m[\u001B[49m\u001B[38;5;124;43m\"\u001B[39;49m\u001B[38;5;124;43mgroup\u001B[39;49m\u001B[38;5;124;43m\"\u001B[39;49m\u001B[43m]\u001B[49m\u001B[43m,\u001B[49m\n\u001B[0;32m      4\u001B[0m \u001B[43m                           \u001B[49m\u001B[43mvalues\u001B[49m\u001B[43m \u001B[49m\u001B[38;5;241;43m=\u001B[39;49m\u001B[43m \u001B[49m\u001B[43m[\u001B[49m\u001B[38;5;124;43m\"\u001B[39;49m\u001B[38;5;124;43my\u001B[39;49m\u001B[38;5;124;43m\"\u001B[39;49m\u001B[43m]\u001B[49m\n\u001B[0;32m      5\u001B[0m \u001B[43m                           \u001B[49m\u001B[43m)\u001B[49m\n\u001B[0;32m      6\u001B[0m                     )\n",
      "File \u001B[1;32m~\\miniconda3\\envs\\JorgeAlien\\lib\\site-packages\\pandas\\util\\_decorators.py:331\u001B[0m, in \u001B[0;36mdeprecate_nonkeyword_arguments.<locals>.decorate.<locals>.wrapper\u001B[1;34m(*args, **kwargs)\u001B[0m\n\u001B[0;32m    325\u001B[0m \u001B[38;5;28;01mif\u001B[39;00m \u001B[38;5;28mlen\u001B[39m(args) \u001B[38;5;241m>\u001B[39m num_allow_args:\n\u001B[0;32m    326\u001B[0m     warnings\u001B[38;5;241m.\u001B[39mwarn(\n\u001B[0;32m    327\u001B[0m         msg\u001B[38;5;241m.\u001B[39mformat(arguments\u001B[38;5;241m=\u001B[39m_format_argument_list(allow_args)),\n\u001B[0;32m    328\u001B[0m         \u001B[38;5;167;01mFutureWarning\u001B[39;00m,\n\u001B[0;32m    329\u001B[0m         stacklevel\u001B[38;5;241m=\u001B[39mfind_stack_level(),\n\u001B[0;32m    330\u001B[0m     )\n\u001B[1;32m--> 331\u001B[0m \u001B[38;5;28;01mreturn\u001B[39;00m func(\u001B[38;5;241m*\u001B[39margs, \u001B[38;5;241m*\u001B[39m\u001B[38;5;241m*\u001B[39mkwargs)\n",
      "File \u001B[1;32m~\\miniconda3\\envs\\JorgeAlien\\lib\\site-packages\\pandas\\core\\frame.py:8567\u001B[0m, in \u001B[0;36mDataFrame.pivot\u001B[1;34m(self, index, columns, values)\u001B[0m\n\u001B[0;32m   8561\u001B[0m \u001B[38;5;129m@Substitution\u001B[39m(\u001B[38;5;124m\"\u001B[39m\u001B[38;5;124m\"\u001B[39m)\n\u001B[0;32m   8562\u001B[0m \u001B[38;5;129m@Appender\u001B[39m(_shared_docs[\u001B[38;5;124m\"\u001B[39m\u001B[38;5;124mpivot\u001B[39m\u001B[38;5;124m\"\u001B[39m])\n\u001B[0;32m   8563\u001B[0m \u001B[38;5;129m@deprecate_nonkeyword_arguments\u001B[39m(version\u001B[38;5;241m=\u001B[39m\u001B[38;5;28;01mNone\u001B[39;00m, allowed_args\u001B[38;5;241m=\u001B[39m[\u001B[38;5;124m\"\u001B[39m\u001B[38;5;124mself\u001B[39m\u001B[38;5;124m\"\u001B[39m])\n\u001B[0;32m   8564\u001B[0m \u001B[38;5;28;01mdef\u001B[39;00m \u001B[38;5;21mpivot\u001B[39m(\u001B[38;5;28mself\u001B[39m, index\u001B[38;5;241m=\u001B[39m\u001B[38;5;28;01mNone\u001B[39;00m, columns\u001B[38;5;241m=\u001B[39m\u001B[38;5;28;01mNone\u001B[39;00m, values\u001B[38;5;241m=\u001B[39m\u001B[38;5;28;01mNone\u001B[39;00m) \u001B[38;5;241m-\u001B[39m\u001B[38;5;241m>\u001B[39m DataFrame:\n\u001B[0;32m   8565\u001B[0m     \u001B[38;5;28;01mfrom\u001B[39;00m \u001B[38;5;21;01mpandas\u001B[39;00m\u001B[38;5;21;01m.\u001B[39;00m\u001B[38;5;21;01mcore\u001B[39;00m\u001B[38;5;21;01m.\u001B[39;00m\u001B[38;5;21;01mreshape\u001B[39;00m\u001B[38;5;21;01m.\u001B[39;00m\u001B[38;5;21;01mpivot\u001B[39;00m \u001B[38;5;28;01mimport\u001B[39;00m pivot\n\u001B[1;32m-> 8567\u001B[0m     \u001B[38;5;28;01mreturn\u001B[39;00m \u001B[43mpivot\u001B[49m\u001B[43m(\u001B[49m\u001B[38;5;28;43mself\u001B[39;49m\u001B[43m,\u001B[49m\u001B[43m \u001B[49m\u001B[43mindex\u001B[49m\u001B[38;5;241;43m=\u001B[39;49m\u001B[43mindex\u001B[49m\u001B[43m,\u001B[49m\u001B[43m \u001B[49m\u001B[43mcolumns\u001B[49m\u001B[38;5;241;43m=\u001B[39;49m\u001B[43mcolumns\u001B[49m\u001B[43m,\u001B[49m\u001B[43m \u001B[49m\u001B[43mvalues\u001B[49m\u001B[38;5;241;43m=\u001B[39;49m\u001B[43mvalues\u001B[49m\u001B[43m)\u001B[49m\n",
      "File \u001B[1;32m~\\miniconda3\\envs\\JorgeAlien\\lib\\site-packages\\pandas\\util\\_decorators.py:331\u001B[0m, in \u001B[0;36mdeprecate_nonkeyword_arguments.<locals>.decorate.<locals>.wrapper\u001B[1;34m(*args, **kwargs)\u001B[0m\n\u001B[0;32m    325\u001B[0m \u001B[38;5;28;01mif\u001B[39;00m \u001B[38;5;28mlen\u001B[39m(args) \u001B[38;5;241m>\u001B[39m num_allow_args:\n\u001B[0;32m    326\u001B[0m     warnings\u001B[38;5;241m.\u001B[39mwarn(\n\u001B[0;32m    327\u001B[0m         msg\u001B[38;5;241m.\u001B[39mformat(arguments\u001B[38;5;241m=\u001B[39m_format_argument_list(allow_args)),\n\u001B[0;32m    328\u001B[0m         \u001B[38;5;167;01mFutureWarning\u001B[39;00m,\n\u001B[0;32m    329\u001B[0m         stacklevel\u001B[38;5;241m=\u001B[39mfind_stack_level(),\n\u001B[0;32m    330\u001B[0m     )\n\u001B[1;32m--> 331\u001B[0m \u001B[38;5;28;01mreturn\u001B[39;00m func(\u001B[38;5;241m*\u001B[39margs, \u001B[38;5;241m*\u001B[39m\u001B[38;5;241m*\u001B[39mkwargs)\n",
      "File \u001B[1;32m~\\miniconda3\\envs\\JorgeAlien\\lib\\site-packages\\pandas\\core\\reshape\\pivot.py:540\u001B[0m, in \u001B[0;36mpivot\u001B[1;34m(data, index, columns, values)\u001B[0m\n\u001B[0;32m    536\u001B[0m         indexed \u001B[38;5;241m=\u001B[39m data\u001B[38;5;241m.\u001B[39m_constructor_sliced(data[values]\u001B[38;5;241m.\u001B[39m_values, index\u001B[38;5;241m=\u001B[39mmultiindex)\n\u001B[0;32m    537\u001B[0m \u001B[38;5;66;03m# error: Argument 1 to \"unstack\" of \"DataFrame\" has incompatible type \"Union\u001B[39;00m\n\u001B[0;32m    538\u001B[0m \u001B[38;5;66;03m# [List[Any], ExtensionArray, ndarray[Any, Any], Index, Series]\"; expected\u001B[39;00m\n\u001B[0;32m    539\u001B[0m \u001B[38;5;66;03m# \"Hashable\"\u001B[39;00m\n\u001B[1;32m--> 540\u001B[0m \u001B[38;5;28;01mreturn\u001B[39;00m \u001B[43mindexed\u001B[49m\u001B[38;5;241;43m.\u001B[39;49m\u001B[43munstack\u001B[49m\u001B[43m(\u001B[49m\u001B[43mcolumns_listlike\u001B[49m\u001B[43m)\u001B[49m\n",
      "File \u001B[1;32m~\\miniconda3\\envs\\JorgeAlien\\lib\\site-packages\\pandas\\core\\frame.py:9112\u001B[0m, in \u001B[0;36mDataFrame.unstack\u001B[1;34m(self, level, fill_value)\u001B[0m\n\u001B[0;32m   9050\u001B[0m \u001B[38;5;250m\u001B[39m\u001B[38;5;124;03m\"\"\"\u001B[39;00m\n\u001B[0;32m   9051\u001B[0m \u001B[38;5;124;03mPivot a level of the (necessarily hierarchical) index labels.\u001B[39;00m\n\u001B[0;32m   9052\u001B[0m \n\u001B[1;32m   (...)\u001B[0m\n\u001B[0;32m   9108\u001B[0m \u001B[38;5;124;03mdtype: float64\u001B[39;00m\n\u001B[0;32m   9109\u001B[0m \u001B[38;5;124;03m\"\"\"\u001B[39;00m\n\u001B[0;32m   9110\u001B[0m \u001B[38;5;28;01mfrom\u001B[39;00m \u001B[38;5;21;01mpandas\u001B[39;00m\u001B[38;5;21;01m.\u001B[39;00m\u001B[38;5;21;01mcore\u001B[39;00m\u001B[38;5;21;01m.\u001B[39;00m\u001B[38;5;21;01mreshape\u001B[39;00m\u001B[38;5;21;01m.\u001B[39;00m\u001B[38;5;21;01mreshape\u001B[39;00m \u001B[38;5;28;01mimport\u001B[39;00m unstack\n\u001B[1;32m-> 9112\u001B[0m result \u001B[38;5;241m=\u001B[39m \u001B[43munstack\u001B[49m\u001B[43m(\u001B[49m\u001B[38;5;28;43mself\u001B[39;49m\u001B[43m,\u001B[49m\u001B[43m \u001B[49m\u001B[43mlevel\u001B[49m\u001B[43m,\u001B[49m\u001B[43m \u001B[49m\u001B[43mfill_value\u001B[49m\u001B[43m)\u001B[49m\n\u001B[0;32m   9114\u001B[0m \u001B[38;5;28;01mreturn\u001B[39;00m result\u001B[38;5;241m.\u001B[39m__finalize__(\u001B[38;5;28mself\u001B[39m, method\u001B[38;5;241m=\u001B[39m\u001B[38;5;124m\"\u001B[39m\u001B[38;5;124munstack\u001B[39m\u001B[38;5;124m\"\u001B[39m)\n",
      "File \u001B[1;32m~\\miniconda3\\envs\\JorgeAlien\\lib\\site-packages\\pandas\\core\\reshape\\reshape.py:476\u001B[0m, in \u001B[0;36munstack\u001B[1;34m(obj, level, fill_value)\u001B[0m\n\u001B[0;32m    474\u001B[0m \u001B[38;5;28;01mif\u001B[39;00m \u001B[38;5;28misinstance\u001B[39m(obj, DataFrame):\n\u001B[0;32m    475\u001B[0m     \u001B[38;5;28;01mif\u001B[39;00m \u001B[38;5;28misinstance\u001B[39m(obj\u001B[38;5;241m.\u001B[39mindex, MultiIndex):\n\u001B[1;32m--> 476\u001B[0m         \u001B[38;5;28;01mreturn\u001B[39;00m \u001B[43m_unstack_frame\u001B[49m\u001B[43m(\u001B[49m\u001B[43mobj\u001B[49m\u001B[43m,\u001B[49m\u001B[43m \u001B[49m\u001B[43mlevel\u001B[49m\u001B[43m,\u001B[49m\u001B[43m \u001B[49m\u001B[43mfill_value\u001B[49m\u001B[38;5;241;43m=\u001B[39;49m\u001B[43mfill_value\u001B[49m\u001B[43m)\u001B[49m\n\u001B[0;32m    477\u001B[0m     \u001B[38;5;28;01melse\u001B[39;00m:\n\u001B[0;32m    478\u001B[0m         \u001B[38;5;28;01mreturn\u001B[39;00m obj\u001B[38;5;241m.\u001B[39mT\u001B[38;5;241m.\u001B[39mstack(dropna\u001B[38;5;241m=\u001B[39m\u001B[38;5;28;01mFalse\u001B[39;00m)\n",
      "File \u001B[1;32m~\\miniconda3\\envs\\JorgeAlien\\lib\\site-packages\\pandas\\core\\reshape\\reshape.py:499\u001B[0m, in \u001B[0;36m_unstack_frame\u001B[1;34m(obj, level, fill_value)\u001B[0m\n\u001B[0;32m    497\u001B[0m \u001B[38;5;28;01mdef\u001B[39;00m \u001B[38;5;21m_unstack_frame\u001B[39m(obj: DataFrame, level, fill_value\u001B[38;5;241m=\u001B[39m\u001B[38;5;28;01mNone\u001B[39;00m):\n\u001B[0;32m    498\u001B[0m     \u001B[38;5;28;01massert\u001B[39;00m \u001B[38;5;28misinstance\u001B[39m(obj\u001B[38;5;241m.\u001B[39mindex, MultiIndex)  \u001B[38;5;66;03m# checked by caller\u001B[39;00m\n\u001B[1;32m--> 499\u001B[0m     unstacker \u001B[38;5;241m=\u001B[39m \u001B[43m_Unstacker\u001B[49m\u001B[43m(\u001B[49m\u001B[43mobj\u001B[49m\u001B[38;5;241;43m.\u001B[39;49m\u001B[43mindex\u001B[49m\u001B[43m,\u001B[49m\u001B[43m \u001B[49m\u001B[43mlevel\u001B[49m\u001B[38;5;241;43m=\u001B[39;49m\u001B[43mlevel\u001B[49m\u001B[43m,\u001B[49m\u001B[43m \u001B[49m\u001B[43mconstructor\u001B[49m\u001B[38;5;241;43m=\u001B[39;49m\u001B[43mobj\u001B[49m\u001B[38;5;241;43m.\u001B[39;49m\u001B[43m_constructor\u001B[49m\u001B[43m)\u001B[49m\n\u001B[0;32m    501\u001B[0m     \u001B[38;5;28;01mif\u001B[39;00m \u001B[38;5;129;01mnot\u001B[39;00m obj\u001B[38;5;241m.\u001B[39m_can_fast_transpose:\n\u001B[0;32m    502\u001B[0m         mgr \u001B[38;5;241m=\u001B[39m obj\u001B[38;5;241m.\u001B[39m_mgr\u001B[38;5;241m.\u001B[39munstack(unstacker, fill_value\u001B[38;5;241m=\u001B[39mfill_value)\n",
      "File \u001B[1;32m~\\miniconda3\\envs\\JorgeAlien\\lib\\site-packages\\pandas\\core\\reshape\\reshape.py:137\u001B[0m, in \u001B[0;36m_Unstacker.__init__\u001B[1;34m(self, index, level, constructor)\u001B[0m\n\u001B[0;32m    129\u001B[0m \u001B[38;5;28;01mif\u001B[39;00m num_cells \u001B[38;5;241m>\u001B[39m np\u001B[38;5;241m.\u001B[39miinfo(np\u001B[38;5;241m.\u001B[39mint32)\u001B[38;5;241m.\u001B[39mmax:\n\u001B[0;32m    130\u001B[0m     warnings\u001B[38;5;241m.\u001B[39mwarn(\n\u001B[0;32m    131\u001B[0m         \u001B[38;5;124mf\u001B[39m\u001B[38;5;124m\"\u001B[39m\u001B[38;5;124mThe following operation may generate \u001B[39m\u001B[38;5;132;01m{\u001B[39;00mnum_cells\u001B[38;5;132;01m}\u001B[39;00m\u001B[38;5;124m cells \u001B[39m\u001B[38;5;124m\"\u001B[39m\n\u001B[0;32m    132\u001B[0m         \u001B[38;5;124mf\u001B[39m\u001B[38;5;124m\"\u001B[39m\u001B[38;5;124min the resulting pandas object.\u001B[39m\u001B[38;5;124m\"\u001B[39m,\n\u001B[0;32m    133\u001B[0m         PerformanceWarning,\n\u001B[0;32m    134\u001B[0m         stacklevel\u001B[38;5;241m=\u001B[39mfind_stack_level(),\n\u001B[0;32m    135\u001B[0m     )\n\u001B[1;32m--> 137\u001B[0m \u001B[38;5;28;43mself\u001B[39;49m\u001B[38;5;241;43m.\u001B[39;49m\u001B[43m_make_selectors\u001B[49m\u001B[43m(\u001B[49m\u001B[43m)\u001B[49m\n",
      "File \u001B[1;32m~\\miniconda3\\envs\\JorgeAlien\\lib\\site-packages\\pandas\\core\\reshape\\reshape.py:189\u001B[0m, in \u001B[0;36m_Unstacker._make_selectors\u001B[1;34m(self)\u001B[0m\n\u001B[0;32m    186\u001B[0m mask\u001B[38;5;241m.\u001B[39mput(selector, \u001B[38;5;28;01mTrue\u001B[39;00m)\n\u001B[0;32m    188\u001B[0m \u001B[38;5;28;01mif\u001B[39;00m mask\u001B[38;5;241m.\u001B[39msum() \u001B[38;5;241m<\u001B[39m \u001B[38;5;28mlen\u001B[39m(\u001B[38;5;28mself\u001B[39m\u001B[38;5;241m.\u001B[39mindex):\n\u001B[1;32m--> 189\u001B[0m     \u001B[38;5;28;01mraise\u001B[39;00m \u001B[38;5;167;01mValueError\u001B[39;00m(\u001B[38;5;124m\"\u001B[39m\u001B[38;5;124mIndex contains duplicate entries, cannot reshape\u001B[39m\u001B[38;5;124m\"\u001B[39m)\n\u001B[0;32m    191\u001B[0m \u001B[38;5;28mself\u001B[39m\u001B[38;5;241m.\u001B[39mgroup_index \u001B[38;5;241m=\u001B[39m comp_index\n\u001B[0;32m    192\u001B[0m \u001B[38;5;28mself\u001B[39m\u001B[38;5;241m.\u001B[39mmask \u001B[38;5;241m=\u001B[39m mask\n",
      "\u001B[1;31mValueError\u001B[0m: Index contains duplicate entries, cannot reshape"
     ]
    }
   ],
   "source": [
    "data_transformed = (database\n",
    "                    .pivot(index = [\"data\"],\n",
    "                           columns = [\"group\"],\n",
    "                           values = [\"y\"]\n",
    "                           )\n",
    "                    )"
   ],
   "metadata": {
    "collapsed": false,
    "ExecuteTime": {
     "end_time": "2023-07-19T16:07:43.383219Z",
     "start_time": "2023-07-19T16:07:43.166050700Z"
    }
   }
  },
  {
   "cell_type": "markdown",
   "source": [
    "By the error message, there are some duplicated data, so we need to identify where and witch is the correct one."
   ],
   "metadata": {
    "collapsed": false
   }
  },
  {
   "cell_type": "code",
   "execution_count": 200,
   "outputs": [
    {
     "data": {
      "text/plain": "       data    y\ngroup           \n1       229  230\n2       230  230\n3       230  230\n4       230  230\n5       230  230\n6       230  230\n7       230  230\n8       230  230\n9       230  230\n10      230  230\n11      230  230\n12      230  230\n13      230  230\n14      230  230\n15      230  230\n16      230  230\n17      230  230\n18      230  230\n19      230  230\n20      230  230",
      "text/html": "<div>\n<style scoped>\n    .dataframe tbody tr th:only-of-type {\n        vertical-align: middle;\n    }\n\n    .dataframe tbody tr th {\n        vertical-align: top;\n    }\n\n    .dataframe thead th {\n        text-align: right;\n    }\n</style>\n<table border=\"1\" class=\"dataframe\">\n  <thead>\n    <tr style=\"text-align: right;\">\n      <th></th>\n      <th>data</th>\n      <th>y</th>\n    </tr>\n    <tr>\n      <th>group</th>\n      <th></th>\n      <th></th>\n    </tr>\n  </thead>\n  <tbody>\n    <tr>\n      <th>1</th>\n      <td>229</td>\n      <td>230</td>\n    </tr>\n    <tr>\n      <th>2</th>\n      <td>230</td>\n      <td>230</td>\n    </tr>\n    <tr>\n      <th>3</th>\n      <td>230</td>\n      <td>230</td>\n    </tr>\n    <tr>\n      <th>4</th>\n      <td>230</td>\n      <td>230</td>\n    </tr>\n    <tr>\n      <th>5</th>\n      <td>230</td>\n      <td>230</td>\n    </tr>\n    <tr>\n      <th>6</th>\n      <td>230</td>\n      <td>230</td>\n    </tr>\n    <tr>\n      <th>7</th>\n      <td>230</td>\n      <td>230</td>\n    </tr>\n    <tr>\n      <th>8</th>\n      <td>230</td>\n      <td>230</td>\n    </tr>\n    <tr>\n      <th>9</th>\n      <td>230</td>\n      <td>230</td>\n    </tr>\n    <tr>\n      <th>10</th>\n      <td>230</td>\n      <td>230</td>\n    </tr>\n    <tr>\n      <th>11</th>\n      <td>230</td>\n      <td>230</td>\n    </tr>\n    <tr>\n      <th>12</th>\n      <td>230</td>\n      <td>230</td>\n    </tr>\n    <tr>\n      <th>13</th>\n      <td>230</td>\n      <td>230</td>\n    </tr>\n    <tr>\n      <th>14</th>\n      <td>230</td>\n      <td>230</td>\n    </tr>\n    <tr>\n      <th>15</th>\n      <td>230</td>\n      <td>230</td>\n    </tr>\n    <tr>\n      <th>16</th>\n      <td>230</td>\n      <td>230</td>\n    </tr>\n    <tr>\n      <th>17</th>\n      <td>230</td>\n      <td>230</td>\n    </tr>\n    <tr>\n      <th>18</th>\n      <td>230</td>\n      <td>230</td>\n    </tr>\n    <tr>\n      <th>19</th>\n      <td>230</td>\n      <td>230</td>\n    </tr>\n    <tr>\n      <th>20</th>\n      <td>230</td>\n      <td>230</td>\n    </tr>\n  </tbody>\n</table>\n</div>"
     },
     "execution_count": 200,
     "metadata": {},
     "output_type": "execute_result"
    }
   ],
   "source": [
    "database.groupby([\"group\"]).nunique()"
   ],
   "metadata": {
    "collapsed": false,
    "ExecuteTime": {
     "end_time": "2023-07-19T16:07:43.385212100Z",
     "start_time": "2023-07-19T16:07:43.253281100Z"
    }
   }
  },
  {
   "cell_type": "markdown",
   "source": [
    "The problem is in group one. Wicth data is repeated?"
   ],
   "metadata": {
    "collapsed": false
   }
  },
  {
   "cell_type": "code",
   "execution_count": 201,
   "outputs": [
    {
     "data": {
      "text/plain": "            data  group             y\n0    01-Oct-2002    1.0      8.164459\n1            NaN    NaN      8.256282\n2            NaN    NaN      8.472554\n3            NaN    NaN      8.747516\n4            NaN    NaN      8.790984\n..           ...    ...           ...\n225          NaN    NaN     11.397031\n226          NaN    NaN     11.494487\n227          NaN    NaN     11.555528\n228          NaN    NaN     11.725619\n229          NaN    NaN  99999.000000\n\n[230 rows x 3 columns]",
      "text/html": "<div>\n<style scoped>\n    .dataframe tbody tr th:only-of-type {\n        vertical-align: middle;\n    }\n\n    .dataframe tbody tr th {\n        vertical-align: top;\n    }\n\n    .dataframe thead th {\n        text-align: right;\n    }\n</style>\n<table border=\"1\" class=\"dataframe\">\n  <thead>\n    <tr style=\"text-align: right;\">\n      <th></th>\n      <th>data</th>\n      <th>group</th>\n      <th>y</th>\n    </tr>\n  </thead>\n  <tbody>\n    <tr>\n      <th>0</th>\n      <td>01-Oct-2002</td>\n      <td>1.0</td>\n      <td>8.164459</td>\n    </tr>\n    <tr>\n      <th>1</th>\n      <td>NaN</td>\n      <td>NaN</td>\n      <td>8.256282</td>\n    </tr>\n    <tr>\n      <th>2</th>\n      <td>NaN</td>\n      <td>NaN</td>\n      <td>8.472554</td>\n    </tr>\n    <tr>\n      <th>3</th>\n      <td>NaN</td>\n      <td>NaN</td>\n      <td>8.747516</td>\n    </tr>\n    <tr>\n      <th>4</th>\n      <td>NaN</td>\n      <td>NaN</td>\n      <td>8.790984</td>\n    </tr>\n    <tr>\n      <th>...</th>\n      <td>...</td>\n      <td>...</td>\n      <td>...</td>\n    </tr>\n    <tr>\n      <th>225</th>\n      <td>NaN</td>\n      <td>NaN</td>\n      <td>11.397031</td>\n    </tr>\n    <tr>\n      <th>226</th>\n      <td>NaN</td>\n      <td>NaN</td>\n      <td>11.494487</td>\n    </tr>\n    <tr>\n      <th>227</th>\n      <td>NaN</td>\n      <td>NaN</td>\n      <td>11.555528</td>\n    </tr>\n    <tr>\n      <th>228</th>\n      <td>NaN</td>\n      <td>NaN</td>\n      <td>11.725619</td>\n    </tr>\n    <tr>\n      <th>229</th>\n      <td>NaN</td>\n      <td>NaN</td>\n      <td>99999.000000</td>\n    </tr>\n  </tbody>\n</table>\n<p>230 rows × 3 columns</p>\n</div>"
     },
     "execution_count": 201,
     "metadata": {},
     "output_type": "execute_result"
    }
   ],
   "source": [
    "database.query(\" group == 1 \").mode()"
   ],
   "metadata": {
    "collapsed": false,
    "ExecuteTime": {
     "end_time": "2023-07-19T16:07:43.604712900Z",
     "start_time": "2023-07-19T16:07:43.335372700Z"
    }
   }
  },
  {
   "cell_type": "markdown",
   "source": [
    "The problem is in \"01-Oct-2002\". Let`s see what is the right data."
   ],
   "metadata": {
    "collapsed": false
   }
  },
  {
   "cell_type": "code",
   "execution_count": 202,
   "outputs": [
    {
     "data": {
      "text/plain": "             group   y\ndata                  \n01-Nov-2002     19  19\n01-Oct-2002     21  21",
      "text/html": "<div>\n<style scoped>\n    .dataframe tbody tr th:only-of-type {\n        vertical-align: middle;\n    }\n\n    .dataframe tbody tr th {\n        vertical-align: top;\n    }\n\n    .dataframe thead th {\n        text-align: right;\n    }\n</style>\n<table border=\"1\" class=\"dataframe\">\n  <thead>\n    <tr style=\"text-align: right;\">\n      <th></th>\n      <th>group</th>\n      <th>y</th>\n    </tr>\n    <tr>\n      <th>data</th>\n      <th></th>\n      <th></th>\n    </tr>\n  </thead>\n  <tbody>\n    <tr>\n      <th>01-Nov-2002</th>\n      <td>19</td>\n      <td>19</td>\n    </tr>\n    <tr>\n      <th>01-Oct-2002</th>\n      <td>21</td>\n      <td>21</td>\n    </tr>\n  </tbody>\n</table>\n</div>"
     },
     "execution_count": 202,
     "metadata": {},
     "output_type": "execute_result"
    }
   ],
   "source": [
    "(database\n",
    " .groupby([\"data\"])\n",
    " .count()\n",
    " .sort_values([\"group\"])\n",
    " .query(\" group != 20  \")\n",
    ")"
   ],
   "metadata": {
    "collapsed": false,
    "ExecuteTime": {
     "end_time": "2023-07-19T16:07:43.749721300Z",
     "start_time": "2023-07-19T16:07:43.450454400Z"
    }
   }
  },
  {
   "cell_type": "markdown",
   "source": [
    "So the problem is in 01-Oct-2002 and one of then should be 01-Nov-2002."
   ],
   "metadata": {
    "collapsed": false
   }
  },
  {
   "cell_type": "code",
   "execution_count": 203,
   "outputs": [
    {
     "data": {
      "text/plain": "           data  group          y  duplicated\n34  01-Nov-2002      1  10.124778        True",
      "text/html": "<div>\n<style scoped>\n    .dataframe tbody tr th:only-of-type {\n        vertical-align: middle;\n    }\n\n    .dataframe tbody tr th {\n        vertical-align: top;\n    }\n\n    .dataframe thead th {\n        text-align: right;\n    }\n</style>\n<table border=\"1\" class=\"dataframe\">\n  <thead>\n    <tr style=\"text-align: right;\">\n      <th></th>\n      <th>data</th>\n      <th>group</th>\n      <th>y</th>\n      <th>duplicated</th>\n    </tr>\n  </thead>\n  <tbody>\n    <tr>\n      <th>34</th>\n      <td>01-Nov-2002</td>\n      <td>1</td>\n      <td>10.124778</td>\n      <td>True</td>\n    </tr>\n  </tbody>\n</table>\n</div>"
     },
     "execution_count": 203,
     "metadata": {},
     "output_type": "execute_result"
    }
   ],
   "source": [
    "# The right data shod be '01-Nov-2002'\n",
    "database = (database\n",
    "            .assign(duplicated = lambda df:  df[[\"group\", \"data\"]].duplicated(),\n",
    "                    data       =  lambda df: df[\"data\"].mask(df[\"duplicated\"] == True, '01-Nov-2002')\n",
    "                    )\n",
    "            )\n",
    "database.query(\" duplicated == True \")"
   ],
   "metadata": {
    "collapsed": false,
    "ExecuteTime": {
     "end_time": "2023-07-19T16:07:43.750769700Z",
     "start_time": "2023-07-19T16:07:43.478522900Z"
    }
   }
  },
  {
   "cell_type": "markdown",
   "source": [
    "Since there are no duplicated data anymore, we can wide the database. But before that, to avoid numerical labels, we paste a \"group_\" suffix to the group values."
   ],
   "metadata": {
    "collapsed": false
   }
  },
  {
   "cell_type": "code",
   "execution_count": 204,
   "outputs": [
    {
     "data": {
      "text/plain": "            group_1    group_10    group_11    group_12    group_13  \\\ncount    230.000000  230.000000  230.000000  230.000000  230.000000   \nmean     444.709754   10.048824    9.996743   10.011681    9.958684   \nstd     6593.081092    0.535920    0.485479    0.566335    0.513044   \nmin        8.164459    8.045215    8.132061    7.319235    7.593635   \n25%        9.721888    9.844656    9.813506    9.818821    9.714076   \n50%        9.979530    9.996489    9.987516   10.013541    9.994251   \n75%       10.133512   10.235389   10.201939   10.250564   10.223290   \nmax    99999.000000   12.563542   11.777333   12.171259   12.116019   \n\n         group_14    group_15    group_16    group_17    group_18    group_19  \\\ncount  230.000000  230.000000  230.000000  230.000000  230.000000  230.000000   \nmean     9.967945    9.967287   10.045631    9.975825   10.014140    9.970744   \nstd      0.562966    0.540261    0.461217    0.495306    0.369347    0.509023   \nmin      7.891626    7.207311    8.508621    8.496057    8.481863    7.818055   \n25%      9.703836    9.794658    9.850055    9.788434    9.840511    9.854594   \n50%      9.959631    9.979454   10.025458    9.981834   10.005137    9.999646   \n75%     10.181924   10.165320   10.218791   10.162658   10.159051   10.171975   \nmax     12.286089   11.894928   11.752984   12.096245   11.310129   11.785191   \n\n          group_2    group_20     group_3     group_4     group_5     group_6  \\\ncount  230.000000  230.000000  230.000000  230.000000  230.000000  230.000000   \nmean    10.017845    9.955394    9.997491    9.948381   10.007684   10.062900   \nstd      0.508128    0.628132    0.502479    0.516962    0.558968    0.587898   \nmin      7.843785    6.954679    7.764694    7.725457    7.082428    8.261903   \n25%      9.851758    9.702203    9.812865    9.713000    9.820939    9.815503   \n50%      9.993396   10.006072   10.024649    9.964654   10.001468   10.021673   \n75%     10.162437   10.267470   10.211335   10.192324   10.208402   10.259789   \nmax     12.906505   12.250087   12.674424   11.668456   12.583304   13.311029   \n\n          group_7     group_8     group_9  \ncount  230.000000  230.000000  230.000000  \nmean    10.023976    9.981162    9.991193  \nstd      0.605233    0.502275    0.531928  \nmin      7.898420    8.022692    7.656090  \n25%      9.830740    9.855542    9.805584  \n50%     10.009085    9.999617    9.993424  \n75%     10.238493   10.146274   10.182783  \nmax     13.541790   12.414211   13.018325  ",
      "text/html": "<div>\n<style scoped>\n    .dataframe tbody tr th:only-of-type {\n        vertical-align: middle;\n    }\n\n    .dataframe tbody tr th {\n        vertical-align: top;\n    }\n\n    .dataframe thead th {\n        text-align: right;\n    }\n</style>\n<table border=\"1\" class=\"dataframe\">\n  <thead>\n    <tr style=\"text-align: right;\">\n      <th></th>\n      <th>group_1</th>\n      <th>group_10</th>\n      <th>group_11</th>\n      <th>group_12</th>\n      <th>group_13</th>\n      <th>group_14</th>\n      <th>group_15</th>\n      <th>group_16</th>\n      <th>group_17</th>\n      <th>group_18</th>\n      <th>group_19</th>\n      <th>group_2</th>\n      <th>group_20</th>\n      <th>group_3</th>\n      <th>group_4</th>\n      <th>group_5</th>\n      <th>group_6</th>\n      <th>group_7</th>\n      <th>group_8</th>\n      <th>group_9</th>\n    </tr>\n  </thead>\n  <tbody>\n    <tr>\n      <th>count</th>\n      <td>230.000000</td>\n      <td>230.000000</td>\n      <td>230.000000</td>\n      <td>230.000000</td>\n      <td>230.000000</td>\n      <td>230.000000</td>\n      <td>230.000000</td>\n      <td>230.000000</td>\n      <td>230.000000</td>\n      <td>230.000000</td>\n      <td>230.000000</td>\n      <td>230.000000</td>\n      <td>230.000000</td>\n      <td>230.000000</td>\n      <td>230.000000</td>\n      <td>230.000000</td>\n      <td>230.000000</td>\n      <td>230.000000</td>\n      <td>230.000000</td>\n      <td>230.000000</td>\n    </tr>\n    <tr>\n      <th>mean</th>\n      <td>444.709754</td>\n      <td>10.048824</td>\n      <td>9.996743</td>\n      <td>10.011681</td>\n      <td>9.958684</td>\n      <td>9.967945</td>\n      <td>9.967287</td>\n      <td>10.045631</td>\n      <td>9.975825</td>\n      <td>10.014140</td>\n      <td>9.970744</td>\n      <td>10.017845</td>\n      <td>9.955394</td>\n      <td>9.997491</td>\n      <td>9.948381</td>\n      <td>10.007684</td>\n      <td>10.062900</td>\n      <td>10.023976</td>\n      <td>9.981162</td>\n      <td>9.991193</td>\n    </tr>\n    <tr>\n      <th>std</th>\n      <td>6593.081092</td>\n      <td>0.535920</td>\n      <td>0.485479</td>\n      <td>0.566335</td>\n      <td>0.513044</td>\n      <td>0.562966</td>\n      <td>0.540261</td>\n      <td>0.461217</td>\n      <td>0.495306</td>\n      <td>0.369347</td>\n      <td>0.509023</td>\n      <td>0.508128</td>\n      <td>0.628132</td>\n      <td>0.502479</td>\n      <td>0.516962</td>\n      <td>0.558968</td>\n      <td>0.587898</td>\n      <td>0.605233</td>\n      <td>0.502275</td>\n      <td>0.531928</td>\n    </tr>\n    <tr>\n      <th>min</th>\n      <td>8.164459</td>\n      <td>8.045215</td>\n      <td>8.132061</td>\n      <td>7.319235</td>\n      <td>7.593635</td>\n      <td>7.891626</td>\n      <td>7.207311</td>\n      <td>8.508621</td>\n      <td>8.496057</td>\n      <td>8.481863</td>\n      <td>7.818055</td>\n      <td>7.843785</td>\n      <td>6.954679</td>\n      <td>7.764694</td>\n      <td>7.725457</td>\n      <td>7.082428</td>\n      <td>8.261903</td>\n      <td>7.898420</td>\n      <td>8.022692</td>\n      <td>7.656090</td>\n    </tr>\n    <tr>\n      <th>25%</th>\n      <td>9.721888</td>\n      <td>9.844656</td>\n      <td>9.813506</td>\n      <td>9.818821</td>\n      <td>9.714076</td>\n      <td>9.703836</td>\n      <td>9.794658</td>\n      <td>9.850055</td>\n      <td>9.788434</td>\n      <td>9.840511</td>\n      <td>9.854594</td>\n      <td>9.851758</td>\n      <td>9.702203</td>\n      <td>9.812865</td>\n      <td>9.713000</td>\n      <td>9.820939</td>\n      <td>9.815503</td>\n      <td>9.830740</td>\n      <td>9.855542</td>\n      <td>9.805584</td>\n    </tr>\n    <tr>\n      <th>50%</th>\n      <td>9.979530</td>\n      <td>9.996489</td>\n      <td>9.987516</td>\n      <td>10.013541</td>\n      <td>9.994251</td>\n      <td>9.959631</td>\n      <td>9.979454</td>\n      <td>10.025458</td>\n      <td>9.981834</td>\n      <td>10.005137</td>\n      <td>9.999646</td>\n      <td>9.993396</td>\n      <td>10.006072</td>\n      <td>10.024649</td>\n      <td>9.964654</td>\n      <td>10.001468</td>\n      <td>10.021673</td>\n      <td>10.009085</td>\n      <td>9.999617</td>\n      <td>9.993424</td>\n    </tr>\n    <tr>\n      <th>75%</th>\n      <td>10.133512</td>\n      <td>10.235389</td>\n      <td>10.201939</td>\n      <td>10.250564</td>\n      <td>10.223290</td>\n      <td>10.181924</td>\n      <td>10.165320</td>\n      <td>10.218791</td>\n      <td>10.162658</td>\n      <td>10.159051</td>\n      <td>10.171975</td>\n      <td>10.162437</td>\n      <td>10.267470</td>\n      <td>10.211335</td>\n      <td>10.192324</td>\n      <td>10.208402</td>\n      <td>10.259789</td>\n      <td>10.238493</td>\n      <td>10.146274</td>\n      <td>10.182783</td>\n    </tr>\n    <tr>\n      <th>max</th>\n      <td>99999.000000</td>\n      <td>12.563542</td>\n      <td>11.777333</td>\n      <td>12.171259</td>\n      <td>12.116019</td>\n      <td>12.286089</td>\n      <td>11.894928</td>\n      <td>11.752984</td>\n      <td>12.096245</td>\n      <td>11.310129</td>\n      <td>11.785191</td>\n      <td>12.906505</td>\n      <td>12.250087</td>\n      <td>12.674424</td>\n      <td>11.668456</td>\n      <td>12.583304</td>\n      <td>13.311029</td>\n      <td>13.541790</td>\n      <td>12.414211</td>\n      <td>13.018325</td>\n    </tr>\n  </tbody>\n</table>\n</div>"
     },
     "execution_count": 204,
     "metadata": {},
     "output_type": "execute_result"
    }
   ],
   "source": [
    "# Now there are no duplicated data, we can wide the DataFrame\n",
    "database_wide = (database\n",
    "                        .assign(group = lambda df: \"group_\" + df[\"group\"].astype(\"str\") )\n",
    "                        .pivot(index = [\"data\"],\n",
    "                               columns = [\"group\"],\n",
    "                               values = \"y\"\n",
    "                               )\n",
    "                        .reset_index()\n",
    "                        .rename_axis(None, axis = 1)\n",
    "                        )\n",
    "database_wide.describe()"
   ],
   "metadata": {
    "collapsed": false,
    "ExecuteTime": {
     "end_time": "2023-07-19T16:07:44.067058500Z",
     "start_time": "2023-07-19T16:07:43.553329300Z"
    }
   }
  },
  {
   "cell_type": "markdown",
   "source": [
    "Now we can solve the outlier problem. We will do a median imputation."
   ],
   "metadata": {
    "collapsed": false
   }
  },
  {
   "cell_type": "code",
   "execution_count": 206,
   "outputs": [
    {
     "data": {
      "text/plain": "         group_10    group_11    group_12    group_13    group_14    group_15  \\\ncount  230.000000  230.000000  230.000000  230.000000  230.000000  230.000000   \nmean    10.048824    9.996743   10.011681    9.958684    9.967945    9.967287   \nstd      0.535920    0.485479    0.566335    0.513044    0.562966    0.540261   \nmin      8.045215    8.132061    7.319235    7.593635    7.891626    7.207311   \n25%      9.844656    9.813506    9.818821    9.714076    9.703836    9.794658   \n50%      9.996489    9.987516   10.013541    9.994251    9.959631    9.979454   \n75%     10.235389   10.201939   10.250564   10.223290   10.181924   10.165320   \nmax     12.563542   11.777333   12.171259   12.116019   12.286089   11.894928   \n\n         group_16    group_17    group_18    group_19     group_2    group_20  \\\ncount  230.000000  230.000000  230.000000  230.000000  230.000000  230.000000   \nmean    10.045631    9.975825   10.014140    9.970744   10.017845    9.955394   \nstd      0.461217    0.495306    0.369347    0.509023    0.508128    0.628132   \nmin      8.508621    8.496057    8.481863    7.818055    7.843785    6.954679   \n25%      9.850055    9.788434    9.840511    9.854594    9.851758    9.702203   \n50%     10.025458    9.981834   10.005137    9.999646    9.993396   10.006072   \n75%     10.218791   10.162658   10.159051   10.171975   10.162437   10.267470   \nmax     11.752984   12.096245   11.310129   11.785191   12.906505   12.250087   \n\n          group_3     group_4     group_5     group_6     group_7     group_8  \\\ncount  230.000000  230.000000  230.000000  230.000000  230.000000  230.000000   \nmean     9.997491    9.948381   10.007684   10.062900   10.023976    9.981162   \nstd      0.502479    0.516962    0.558968    0.587898    0.605233    0.502275   \nmin      7.764694    7.725457    7.082428    8.261903    7.898420    8.022692   \n25%      9.812865    9.713000    9.820939    9.815503    9.830740    9.855542   \n50%     10.024649    9.964654   10.001468   10.021673   10.009085    9.999617   \n75%     10.211335   10.192324   10.208402   10.259789   10.238493   10.146274   \nmax     12.674424   11.668456   12.583304   13.311029   13.541790   12.414211   \n\n          group_9  group_1_aux  \ncount  230.000000   229.000000  \nmean     9.991193     9.974862  \nstd      0.531928     0.500889  \nmin      7.656090     8.164459  \n25%      9.805584     9.721064  \n50%      9.993424     9.979439  \n75%     10.182783    10.124778  \nmax     13.018325    11.725619  ",
      "text/html": "<div>\n<style scoped>\n    .dataframe tbody tr th:only-of-type {\n        vertical-align: middle;\n    }\n\n    .dataframe tbody tr th {\n        vertical-align: top;\n    }\n\n    .dataframe thead th {\n        text-align: right;\n    }\n</style>\n<table border=\"1\" class=\"dataframe\">\n  <thead>\n    <tr style=\"text-align: right;\">\n      <th></th>\n      <th>group_10</th>\n      <th>group_11</th>\n      <th>group_12</th>\n      <th>group_13</th>\n      <th>group_14</th>\n      <th>group_15</th>\n      <th>group_16</th>\n      <th>group_17</th>\n      <th>group_18</th>\n      <th>group_19</th>\n      <th>group_2</th>\n      <th>group_20</th>\n      <th>group_3</th>\n      <th>group_4</th>\n      <th>group_5</th>\n      <th>group_6</th>\n      <th>group_7</th>\n      <th>group_8</th>\n      <th>group_9</th>\n      <th>group_1_aux</th>\n    </tr>\n  </thead>\n  <tbody>\n    <tr>\n      <th>count</th>\n      <td>230.000000</td>\n      <td>230.000000</td>\n      <td>230.000000</td>\n      <td>230.000000</td>\n      <td>230.000000</td>\n      <td>230.000000</td>\n      <td>230.000000</td>\n      <td>230.000000</td>\n      <td>230.000000</td>\n      <td>230.000000</td>\n      <td>230.000000</td>\n      <td>230.000000</td>\n      <td>230.000000</td>\n      <td>230.000000</td>\n      <td>230.000000</td>\n      <td>230.000000</td>\n      <td>230.000000</td>\n      <td>230.000000</td>\n      <td>230.000000</td>\n      <td>229.000000</td>\n    </tr>\n    <tr>\n      <th>mean</th>\n      <td>10.048824</td>\n      <td>9.996743</td>\n      <td>10.011681</td>\n      <td>9.958684</td>\n      <td>9.967945</td>\n      <td>9.967287</td>\n      <td>10.045631</td>\n      <td>9.975825</td>\n      <td>10.014140</td>\n      <td>9.970744</td>\n      <td>10.017845</td>\n      <td>9.955394</td>\n      <td>9.997491</td>\n      <td>9.948381</td>\n      <td>10.007684</td>\n      <td>10.062900</td>\n      <td>10.023976</td>\n      <td>9.981162</td>\n      <td>9.991193</td>\n      <td>9.974862</td>\n    </tr>\n    <tr>\n      <th>std</th>\n      <td>0.535920</td>\n      <td>0.485479</td>\n      <td>0.566335</td>\n      <td>0.513044</td>\n      <td>0.562966</td>\n      <td>0.540261</td>\n      <td>0.461217</td>\n      <td>0.495306</td>\n      <td>0.369347</td>\n      <td>0.509023</td>\n      <td>0.508128</td>\n      <td>0.628132</td>\n      <td>0.502479</td>\n      <td>0.516962</td>\n      <td>0.558968</td>\n      <td>0.587898</td>\n      <td>0.605233</td>\n      <td>0.502275</td>\n      <td>0.531928</td>\n      <td>0.500889</td>\n    </tr>\n    <tr>\n      <th>min</th>\n      <td>8.045215</td>\n      <td>8.132061</td>\n      <td>7.319235</td>\n      <td>7.593635</td>\n      <td>7.891626</td>\n      <td>7.207311</td>\n      <td>8.508621</td>\n      <td>8.496057</td>\n      <td>8.481863</td>\n      <td>7.818055</td>\n      <td>7.843785</td>\n      <td>6.954679</td>\n      <td>7.764694</td>\n      <td>7.725457</td>\n      <td>7.082428</td>\n      <td>8.261903</td>\n      <td>7.898420</td>\n      <td>8.022692</td>\n      <td>7.656090</td>\n      <td>8.164459</td>\n    </tr>\n    <tr>\n      <th>25%</th>\n      <td>9.844656</td>\n      <td>9.813506</td>\n      <td>9.818821</td>\n      <td>9.714076</td>\n      <td>9.703836</td>\n      <td>9.794658</td>\n      <td>9.850055</td>\n      <td>9.788434</td>\n      <td>9.840511</td>\n      <td>9.854594</td>\n      <td>9.851758</td>\n      <td>9.702203</td>\n      <td>9.812865</td>\n      <td>9.713000</td>\n      <td>9.820939</td>\n      <td>9.815503</td>\n      <td>9.830740</td>\n      <td>9.855542</td>\n      <td>9.805584</td>\n      <td>9.721064</td>\n    </tr>\n    <tr>\n      <th>50%</th>\n      <td>9.996489</td>\n      <td>9.987516</td>\n      <td>10.013541</td>\n      <td>9.994251</td>\n      <td>9.959631</td>\n      <td>9.979454</td>\n      <td>10.025458</td>\n      <td>9.981834</td>\n      <td>10.005137</td>\n      <td>9.999646</td>\n      <td>9.993396</td>\n      <td>10.006072</td>\n      <td>10.024649</td>\n      <td>9.964654</td>\n      <td>10.001468</td>\n      <td>10.021673</td>\n      <td>10.009085</td>\n      <td>9.999617</td>\n      <td>9.993424</td>\n      <td>9.979439</td>\n    </tr>\n    <tr>\n      <th>75%</th>\n      <td>10.235389</td>\n      <td>10.201939</td>\n      <td>10.250564</td>\n      <td>10.223290</td>\n      <td>10.181924</td>\n      <td>10.165320</td>\n      <td>10.218791</td>\n      <td>10.162658</td>\n      <td>10.159051</td>\n      <td>10.171975</td>\n      <td>10.162437</td>\n      <td>10.267470</td>\n      <td>10.211335</td>\n      <td>10.192324</td>\n      <td>10.208402</td>\n      <td>10.259789</td>\n      <td>10.238493</td>\n      <td>10.146274</td>\n      <td>10.182783</td>\n      <td>10.124778</td>\n    </tr>\n    <tr>\n      <th>max</th>\n      <td>12.563542</td>\n      <td>11.777333</td>\n      <td>12.171259</td>\n      <td>12.116019</td>\n      <td>12.286089</td>\n      <td>11.894928</td>\n      <td>11.752984</td>\n      <td>12.096245</td>\n      <td>11.310129</td>\n      <td>11.785191</td>\n      <td>12.906505</td>\n      <td>12.250087</td>\n      <td>12.674424</td>\n      <td>11.668456</td>\n      <td>12.583304</td>\n      <td>13.311029</td>\n      <td>13.541790</td>\n      <td>12.414211</td>\n      <td>13.018325</td>\n      <td>11.725619</td>\n    </tr>\n  </tbody>\n</table>\n</div>"
     },
     "execution_count": 206,
     "metadata": {},
     "output_type": "execute_result"
    }
   ],
   "source": [
    "limit = np.quantile(database_wide.drop([\"data\"], axis = 1), 0.999) # limit to mark as wrong value\n",
    "\n",
    "database_new = (database_wide\n",
    "                .assign(group_1_aux = lambda df: df[\"group_1\"].mask( df[\"group_1\"] > limit, np.nan),\n",
    "                        group_1     = lambda df: df[\"group_1_aux\"].fillna(df[\"group_1_aux\"].median)\n",
    "                        )\n",
    "                )\n",
    "database_new.describe()"
   ],
   "metadata": {
    "collapsed": false,
    "ExecuteTime": {
     "end_time": "2023-07-19T16:07:51.787946300Z",
     "start_time": "2023-07-19T16:07:51.734122600Z"
    }
   }
  },
  {
   "cell_type": "markdown",
   "source": [
    "# 3 EXPORT DATA"
   ],
   "metadata": {
    "collapsed": false
   }
  },
  {
   "cell_type": "markdown",
   "source": [
    "To finish, we export the new database as .csv and .xlsx, adding years and months variables to facilitate further manipulation. We also export a long version of the new data, that would be more suitable for some applications."
   ],
   "metadata": {
    "collapsed": false
   }
  },
  {
   "cell_type": "code",
   "execution_count": 209,
   "outputs": [
    {
     "data": {
      "text/plain": "          data    group_1   group_10   group_11   group_12   group_13  \\\n0  01-Apr-2000   10.01135   9.987146   8.372398  11.204862  10.000080   \n1  01-Apr-2001   10.77335  10.020888  10.025045  10.342786   9.386033   \n2  01-Apr-2002   9.379179   8.486581   9.864623   9.487962  10.232624   \n3  01-Apr-2003  10.017709   9.482085  10.433054  10.060909   9.379115   \n4  01-Apr-2004   9.821178   9.959817   9.304840  10.553361   9.791334   \n\n    group_14   group_15   group_16  group_17  ...    group_3    group_4  \\\n0   9.957437   9.366857  10.019017  9.958579  ...   9.528391   9.682856   \n1  10.039840   9.895056   9.813690  9.903303  ...   9.729937   9.661809   \n2  11.681487   9.978239   9.611069  9.910267  ...   9.584221  10.889030   \n3  10.216647   9.792787   9.771448  9.804754  ...  10.567198  10.078124   \n4   9.876744  10.003894   9.879274  9.536919  ...  12.674424  10.354162   \n\n     group_5    group_6    group_7    group_8    group_9  group_1_aux  year  \\\n0  10.021460  10.634633  10.090673  10.032882   9.189847    10.011350  2000   \n1   9.998162  10.097819   9.961338  10.108989  10.224766    10.773350  2001   \n2   9.982543   9.813211  10.015782   9.535142   8.915741     9.379179  2002   \n3  10.175519   9.776505   9.105832   9.939589  10.259827    10.017709  2003   \n4  10.071010   9.904600   9.963596  10.352201  10.558290     9.821178  2004   \n\n   month  \n0    Apr  \n1    Apr  \n2    Apr  \n3    Apr  \n4    Apr  \n\n[5 rows x 24 columns]",
      "text/html": "<div>\n<style scoped>\n    .dataframe tbody tr th:only-of-type {\n        vertical-align: middle;\n    }\n\n    .dataframe tbody tr th {\n        vertical-align: top;\n    }\n\n    .dataframe thead th {\n        text-align: right;\n    }\n</style>\n<table border=\"1\" class=\"dataframe\">\n  <thead>\n    <tr style=\"text-align: right;\">\n      <th></th>\n      <th>data</th>\n      <th>group_1</th>\n      <th>group_10</th>\n      <th>group_11</th>\n      <th>group_12</th>\n      <th>group_13</th>\n      <th>group_14</th>\n      <th>group_15</th>\n      <th>group_16</th>\n      <th>group_17</th>\n      <th>...</th>\n      <th>group_3</th>\n      <th>group_4</th>\n      <th>group_5</th>\n      <th>group_6</th>\n      <th>group_7</th>\n      <th>group_8</th>\n      <th>group_9</th>\n      <th>group_1_aux</th>\n      <th>year</th>\n      <th>month</th>\n    </tr>\n  </thead>\n  <tbody>\n    <tr>\n      <th>0</th>\n      <td>01-Apr-2000</td>\n      <td>10.01135</td>\n      <td>9.987146</td>\n      <td>8.372398</td>\n      <td>11.204862</td>\n      <td>10.000080</td>\n      <td>9.957437</td>\n      <td>9.366857</td>\n      <td>10.019017</td>\n      <td>9.958579</td>\n      <td>...</td>\n      <td>9.528391</td>\n      <td>9.682856</td>\n      <td>10.021460</td>\n      <td>10.634633</td>\n      <td>10.090673</td>\n      <td>10.032882</td>\n      <td>9.189847</td>\n      <td>10.011350</td>\n      <td>2000</td>\n      <td>Apr</td>\n    </tr>\n    <tr>\n      <th>1</th>\n      <td>01-Apr-2001</td>\n      <td>10.77335</td>\n      <td>10.020888</td>\n      <td>10.025045</td>\n      <td>10.342786</td>\n      <td>9.386033</td>\n      <td>10.039840</td>\n      <td>9.895056</td>\n      <td>9.813690</td>\n      <td>9.903303</td>\n      <td>...</td>\n      <td>9.729937</td>\n      <td>9.661809</td>\n      <td>9.998162</td>\n      <td>10.097819</td>\n      <td>9.961338</td>\n      <td>10.108989</td>\n      <td>10.224766</td>\n      <td>10.773350</td>\n      <td>2001</td>\n      <td>Apr</td>\n    </tr>\n    <tr>\n      <th>2</th>\n      <td>01-Apr-2002</td>\n      <td>9.379179</td>\n      <td>8.486581</td>\n      <td>9.864623</td>\n      <td>9.487962</td>\n      <td>10.232624</td>\n      <td>11.681487</td>\n      <td>9.978239</td>\n      <td>9.611069</td>\n      <td>9.910267</td>\n      <td>...</td>\n      <td>9.584221</td>\n      <td>10.889030</td>\n      <td>9.982543</td>\n      <td>9.813211</td>\n      <td>10.015782</td>\n      <td>9.535142</td>\n      <td>8.915741</td>\n      <td>9.379179</td>\n      <td>2002</td>\n      <td>Apr</td>\n    </tr>\n    <tr>\n      <th>3</th>\n      <td>01-Apr-2003</td>\n      <td>10.017709</td>\n      <td>9.482085</td>\n      <td>10.433054</td>\n      <td>10.060909</td>\n      <td>9.379115</td>\n      <td>10.216647</td>\n      <td>9.792787</td>\n      <td>9.771448</td>\n      <td>9.804754</td>\n      <td>...</td>\n      <td>10.567198</td>\n      <td>10.078124</td>\n      <td>10.175519</td>\n      <td>9.776505</td>\n      <td>9.105832</td>\n      <td>9.939589</td>\n      <td>10.259827</td>\n      <td>10.017709</td>\n      <td>2003</td>\n      <td>Apr</td>\n    </tr>\n    <tr>\n      <th>4</th>\n      <td>01-Apr-2004</td>\n      <td>9.821178</td>\n      <td>9.959817</td>\n      <td>9.304840</td>\n      <td>10.553361</td>\n      <td>9.791334</td>\n      <td>9.876744</td>\n      <td>10.003894</td>\n      <td>9.879274</td>\n      <td>9.536919</td>\n      <td>...</td>\n      <td>12.674424</td>\n      <td>10.354162</td>\n      <td>10.071010</td>\n      <td>9.904600</td>\n      <td>9.963596</td>\n      <td>10.352201</td>\n      <td>10.558290</td>\n      <td>9.821178</td>\n      <td>2004</td>\n      <td>Apr</td>\n    </tr>\n  </tbody>\n</table>\n<p>5 rows × 24 columns</p>\n</div>"
     },
     "execution_count": 209,
     "metadata": {},
     "output_type": "execute_result"
    }
   ],
   "source": [
    "database_new = (database_new\n",
    "                .assign(year = lambda df: df[\"data\"].str.slice(7,11),\n",
    "                        month = lambda df: df[\"data\"].str.slice(3,6),\n",
    "                        )\n",
    "                )\n",
    "database_new.head()"
   ],
   "metadata": {
    "collapsed": false,
    "ExecuteTime": {
     "end_time": "2023-07-19T16:13:53.899930200Z",
     "start_time": "2023-07-19T16:13:53.872453100Z"
    }
   }
  },
  {
   "cell_type": "code",
   "execution_count": null,
   "outputs": [],
   "source": [
    "database_new#%% md\n",
    "# ESM Exercise Selection\n"
   ],
   "metadata": {
    "collapsed": false
   }
  },
  {
   "cell_type": "markdown",
   "source": [
    "# I IMPORT PACKAGES"
   ],
   "metadata": {
    "collapsed": false
   }
  },
  {
   "cell_type": "code",
   "execution_count": null,
   "outputs": [],
   "source": [
    "import pandas as pd\n",
    "import numpy as np\n",
    "import os\n",
    "\n",
    "from pathlib import Path"
   ],
   "metadata": {
    "collapsed": false
   }
  },
  {
   "cell_type": "markdown",
   "source": [
    "# II SETING UP DIRECTORIES"
   ],
   "metadata": {
    "collapsed": false
   }
  },
  {
   "cell_type": "code",
   "execution_count": null,
   "outputs": [],
   "source": [
    "os.chdir(\"G:\\Meu Drive\\Selection\\esm_selection\")\n",
    "\n",
    "root_dir = Path(os.getcwd())\n",
    "data_dir = Path(root_dir, \"Data/\")\n",
    "input_dir = Path(data_dir, \"Input/\")\n",
    "output_dir = Path(data_dir, \"Output\")"
   ],
   "metadata": {
    "collapsed": false
   }
  },
  {
   "cell_type": "markdown",
   "source": [
    "# 1 OPEN DATA"
   ],
   "metadata": {
    "collapsed": false
   }
  },
  {
   "cell_type": "code",
   "execution_count": null,
   "outputs": [],
   "source": [
    "database = (pd.read_table(Path(input_dir, \"trainingdata.csv\"), sep = \",\", header= None)\n",
    "        .rename(columns = {1: \"group\",\n",
    "                           0: \"data\",\n",
    "                           2: \"y\"},)\n",
    "        )\n",
    "\n",
    "database.describe(include = \"all\")"
   ],
   "metadata": {
    "collapsed": false
   }
  },
  {
   "cell_type": "code",
   "execution_count": null,
   "outputs": [],
   "source": [
    "database.info()"
   ],
   "metadata": {
    "collapsed": false
   }
  },
  {
   "cell_type": "markdown",
   "source": [
    "With .info() we can`t see any missing data, but with .describe() we can see there is y value faraway from rest."
   ],
   "metadata": {
    "collapsed": false
   }
  },
  {
   "cell_type": "markdown",
   "source": [
    "# 2 DATA MANIPULATION"
   ],
   "metadata": {
    "collapsed": false
   }
  },
  {
   "cell_type": "code",
   "execution_count": null,
   "outputs": [],
   "source": [
    "data_transformed = (database\n",
    "                    .pivot(index = [\"data\"],\n",
    "                           columns = [\"group\"],\n",
    "                           values = [\"y\"]\n",
    "                           )\n",
    "                    )"
   ],
   "metadata": {
    "collapsed": false
   }
  },
  {
   "cell_type": "markdown",
   "source": [
    "By the error message, there are some duplicated data, so we need to identify where and witch is the correct one."
   ],
   "metadata": {
    "collapsed": false
   }
  },
  {
   "cell_type": "code",
   "execution_count": null,
   "outputs": [],
   "source": [
    "database.groupby([\"group\"]).nunique()"
   ],
   "metadata": {
    "collapsed": false
   }
  },
  {
   "cell_type": "markdown",
   "source": [
    "The problem is in group one. Wicth data is repeated?"
   ],
   "metadata": {
    "collapsed": false
   }
  },
  {
   "cell_type": "code",
   "execution_count": null,
   "outputs": [],
   "source": [
    "database.query(\" group == 1 \").mode()"
   ],
   "metadata": {
    "collapsed": false
   }
  },
  {
   "cell_type": "markdown",
   "source": [
    "The problem is in \"01-Oct-2002\". Let`s see what is the right data."
   ],
   "metadata": {
    "collapsed": false
   }
  },
  {
   "cell_type": "code",
   "execution_count": null,
   "outputs": [],
   "source": [
    "(database\n",
    " .groupby([\"data\"])\n",
    " .count()\n",
    " .sort_values([\"group\"])\n",
    " .query(\" group != 20  \")\n",
    ")"
   ],
   "metadata": {
    "collapsed": false
   }
  },
  {
   "cell_type": "markdown",
   "source": [
    "So the problem is in 01-Oct-2002 and one of then should be 01-Nov-2002."
   ],
   "metadata": {
    "collapsed": false
   }
  },
  {
   "cell_type": "code",
   "execution_count": null,
   "outputs": [],
   "source": [
    "# The right data shod be '01-Nov-2002'\n",
    "database = (database\n",
    "            .assign(duplicated = lambda df:  df[[\"group\", \"data\"]].duplicated(),\n",
    "                    data       =  lambda df: df[\"data\"].mask(df[\"duplicated\"] == True, '01-Nov-2002')\n",
    "                    )\n",
    "            )\n",
    "database.query(\" duplicated == True \")"
   ],
   "metadata": {
    "collapsed": false
   }
  },
  {
   "cell_type": "markdown",
   "source": [
    "Since there are no duplicated data anymore, we can wide the database. But before that, to avoid numerical labels, we paste a \"group_\" suffix to the group values."
   ],
   "metadata": {
    "collapsed": false
   }
  },
  {
   "cell_type": "code",
   "execution_count": null,
   "outputs": [],
   "source": [
    "# Now there are no duplicated data, we can wide the DataFrame\n",
    "database_wide = (database\n",
    "                        .assign(group = lambda df: \"group_\" + df[\"group\"].astype(\"str\") )\n",
    "                        .pivot(index = [\"data\"],\n",
    "                               columns = [\"group\"],\n",
    "                               values = \"y\"\n",
    "                               )\n",
    "                        .reset_index()\n",
    "                        .rename_axis(None, axis = 1)\n",
    "                        )\n",
    "database_wide.describe()"
   ],
   "metadata": {
    "collapsed": false
   }
  },
  {
   "cell_type": "markdown",
   "source": [
    "Now we can solve the outlier problem. We will do a median imputation."
   ],
   "metadata": {
    "collapsed": false
   }
  },
  {
   "cell_type": "code",
   "execution_count": 218,
   "outputs": [
    {
     "data": {
      "text/plain": "         group_10    group_11    group_12    group_13    group_14    group_15  \\\ncount  230.000000  230.000000  230.000000  230.000000  230.000000  230.000000   \nmean    10.048824    9.996743   10.011681    9.958684    9.967945    9.967287   \nstd      0.535920    0.485479    0.566335    0.513044    0.562966    0.540261   \nmin      8.045215    8.132061    7.319235    7.593635    7.891626    7.207311   \n25%      9.844656    9.813506    9.818821    9.714076    9.703836    9.794658   \n50%      9.996489    9.987516   10.013541    9.994251    9.959631    9.979454   \n75%     10.235389   10.201939   10.250564   10.223290   10.181924   10.165320   \nmax     12.563542   11.777333   12.171259   12.116019   12.286089   11.894928   \n\n         group_16    group_17    group_18    group_19     group_2    group_20  \\\ncount  230.000000  230.000000  230.000000  230.000000  230.000000  230.000000   \nmean    10.045631    9.975825   10.014140    9.970744   10.017845    9.955394   \nstd      0.461217    0.495306    0.369347    0.509023    0.508128    0.628132   \nmin      8.508621    8.496057    8.481863    7.818055    7.843785    6.954679   \n25%      9.850055    9.788434    9.840511    9.854594    9.851758    9.702203   \n50%     10.025458    9.981834   10.005137    9.999646    9.993396   10.006072   \n75%     10.218791   10.162658   10.159051   10.171975   10.162437   10.267470   \nmax     11.752984   12.096245   11.310129   11.785191   12.906505   12.250087   \n\n          group_3     group_4     group_5     group_6     group_7     group_8  \\\ncount  230.000000  230.000000  230.000000  230.000000  230.000000  230.000000   \nmean     9.997491    9.948381   10.007684   10.062900   10.023976    9.981162   \nstd      0.502479    0.516962    0.558968    0.587898    0.605233    0.502275   \nmin      7.764694    7.725457    7.082428    8.261903    7.898420    8.022692   \n25%      9.812865    9.713000    9.820939    9.815503    9.830740    9.855542   \n50%     10.024649    9.964654   10.001468   10.021673   10.009085    9.999617   \n75%     10.211335   10.192324   10.208402   10.259789   10.238493   10.146274   \nmax     12.674424   11.668456   12.583304   13.311029   13.541790   12.414211   \n\n          group_9  \ncount  230.000000  \nmean     9.991193  \nstd      0.531928  \nmin      7.656090  \n25%      9.805584  \n50%      9.993424  \n75%     10.182783  \nmax     13.018325  ",
      "text/html": "<div>\n<style scoped>\n    .dataframe tbody tr th:only-of-type {\n        vertical-align: middle;\n    }\n\n    .dataframe tbody tr th {\n        vertical-align: top;\n    }\n\n    .dataframe thead th {\n        text-align: right;\n    }\n</style>\n<table border=\"1\" class=\"dataframe\">\n  <thead>\n    <tr style=\"text-align: right;\">\n      <th></th>\n      <th>group_10</th>\n      <th>group_11</th>\n      <th>group_12</th>\n      <th>group_13</th>\n      <th>group_14</th>\n      <th>group_15</th>\n      <th>group_16</th>\n      <th>group_17</th>\n      <th>group_18</th>\n      <th>group_19</th>\n      <th>group_2</th>\n      <th>group_20</th>\n      <th>group_3</th>\n      <th>group_4</th>\n      <th>group_5</th>\n      <th>group_6</th>\n      <th>group_7</th>\n      <th>group_8</th>\n      <th>group_9</th>\n    </tr>\n  </thead>\n  <tbody>\n    <tr>\n      <th>count</th>\n      <td>230.000000</td>\n      <td>230.000000</td>\n      <td>230.000000</td>\n      <td>230.000000</td>\n      <td>230.000000</td>\n      <td>230.000000</td>\n      <td>230.000000</td>\n      <td>230.000000</td>\n      <td>230.000000</td>\n      <td>230.000000</td>\n      <td>230.000000</td>\n      <td>230.000000</td>\n      <td>230.000000</td>\n      <td>230.000000</td>\n      <td>230.000000</td>\n      <td>230.000000</td>\n      <td>230.000000</td>\n      <td>230.000000</td>\n      <td>230.000000</td>\n    </tr>\n    <tr>\n      <th>mean</th>\n      <td>10.048824</td>\n      <td>9.996743</td>\n      <td>10.011681</td>\n      <td>9.958684</td>\n      <td>9.967945</td>\n      <td>9.967287</td>\n      <td>10.045631</td>\n      <td>9.975825</td>\n      <td>10.014140</td>\n      <td>9.970744</td>\n      <td>10.017845</td>\n      <td>9.955394</td>\n      <td>9.997491</td>\n      <td>9.948381</td>\n      <td>10.007684</td>\n      <td>10.062900</td>\n      <td>10.023976</td>\n      <td>9.981162</td>\n      <td>9.991193</td>\n    </tr>\n    <tr>\n      <th>std</th>\n      <td>0.535920</td>\n      <td>0.485479</td>\n      <td>0.566335</td>\n      <td>0.513044</td>\n      <td>0.562966</td>\n      <td>0.540261</td>\n      <td>0.461217</td>\n      <td>0.495306</td>\n      <td>0.369347</td>\n      <td>0.509023</td>\n      <td>0.508128</td>\n      <td>0.628132</td>\n      <td>0.502479</td>\n      <td>0.516962</td>\n      <td>0.558968</td>\n      <td>0.587898</td>\n      <td>0.605233</td>\n      <td>0.502275</td>\n      <td>0.531928</td>\n    </tr>\n    <tr>\n      <th>min</th>\n      <td>8.045215</td>\n      <td>8.132061</td>\n      <td>7.319235</td>\n      <td>7.593635</td>\n      <td>7.891626</td>\n      <td>7.207311</td>\n      <td>8.508621</td>\n      <td>8.496057</td>\n      <td>8.481863</td>\n      <td>7.818055</td>\n      <td>7.843785</td>\n      <td>6.954679</td>\n      <td>7.764694</td>\n      <td>7.725457</td>\n      <td>7.082428</td>\n      <td>8.261903</td>\n      <td>7.898420</td>\n      <td>8.022692</td>\n      <td>7.656090</td>\n    </tr>\n    <tr>\n      <th>25%</th>\n      <td>9.844656</td>\n      <td>9.813506</td>\n      <td>9.818821</td>\n      <td>9.714076</td>\n      <td>9.703836</td>\n      <td>9.794658</td>\n      <td>9.850055</td>\n      <td>9.788434</td>\n      <td>9.840511</td>\n      <td>9.854594</td>\n      <td>9.851758</td>\n      <td>9.702203</td>\n      <td>9.812865</td>\n      <td>9.713000</td>\n      <td>9.820939</td>\n      <td>9.815503</td>\n      <td>9.830740</td>\n      <td>9.855542</td>\n      <td>9.805584</td>\n    </tr>\n    <tr>\n      <th>50%</th>\n      <td>9.996489</td>\n      <td>9.987516</td>\n      <td>10.013541</td>\n      <td>9.994251</td>\n      <td>9.959631</td>\n      <td>9.979454</td>\n      <td>10.025458</td>\n      <td>9.981834</td>\n      <td>10.005137</td>\n      <td>9.999646</td>\n      <td>9.993396</td>\n      <td>10.006072</td>\n      <td>10.024649</td>\n      <td>9.964654</td>\n      <td>10.001468</td>\n      <td>10.021673</td>\n      <td>10.009085</td>\n      <td>9.999617</td>\n      <td>9.993424</td>\n    </tr>\n    <tr>\n      <th>75%</th>\n      <td>10.235389</td>\n      <td>10.201939</td>\n      <td>10.250564</td>\n      <td>10.223290</td>\n      <td>10.181924</td>\n      <td>10.165320</td>\n      <td>10.218791</td>\n      <td>10.162658</td>\n      <td>10.159051</td>\n      <td>10.171975</td>\n      <td>10.162437</td>\n      <td>10.267470</td>\n      <td>10.211335</td>\n      <td>10.192324</td>\n      <td>10.208402</td>\n      <td>10.259789</td>\n      <td>10.238493</td>\n      <td>10.146274</td>\n      <td>10.182783</td>\n    </tr>\n    <tr>\n      <th>max</th>\n      <td>12.563542</td>\n      <td>11.777333</td>\n      <td>12.171259</td>\n      <td>12.116019</td>\n      <td>12.286089</td>\n      <td>11.894928</td>\n      <td>11.752984</td>\n      <td>12.096245</td>\n      <td>11.310129</td>\n      <td>11.785191</td>\n      <td>12.906505</td>\n      <td>12.250087</td>\n      <td>12.674424</td>\n      <td>11.668456</td>\n      <td>12.583304</td>\n      <td>13.311029</td>\n      <td>13.541790</td>\n      <td>12.414211</td>\n      <td>13.018325</td>\n    </tr>\n  </tbody>\n</table>\n</div>"
     },
     "execution_count": 218,
     "metadata": {},
     "output_type": "execute_result"
    }
   ],
   "source": [
    "limit = np.quantile(database_wide.drop([\"data\"], axis = 1), 0.999) # limit to mark as wrong value\n",
    "\n",
    "database_new = (database_wide\n",
    "                .assign(group_1_aux = lambda df: df[\"group_1\"].mask( df[\"group_1\"] > limit, np.nan),\n",
    "                        group_1     = lambda df: df[\"group_1_aux\"].fillna(df[\"group_1_aux\"].median)\n",
    "                        )\n",
    "                .drop([\"group_1_aux\"], axis = 1)\n",
    "                )\n",
    "database_new.describe()"
   ],
   "metadata": {
    "collapsed": false,
    "ExecuteTime": {
     "end_time": "2023-07-19T16:21:22.478596300Z",
     "start_time": "2023-07-19T16:21:22.434837300Z"
    }
   }
  },
  {
   "cell_type": "markdown",
   "source": [
    "# 3 EXPORT DATA"
   ],
   "metadata": {
    "collapsed": false
   }
  },
  {
   "cell_type": "markdown",
   "source": [
    "To finish, we export the new database as .csv and .xlsx, adding years and months variables to facilitate further manipulation. We also export a long version of the new data, that would be more suitable for some applications."
   ],
   "metadata": {
    "collapsed": false
   }
  },
  {
   "cell_type": "code",
   "execution_count": 223,
   "outputs": [
    {
     "data": {
      "text/plain": "          data    group_1   group_10   group_11   group_12   group_13  \\\n0  01-Apr-2000   10.01135   9.987146   8.372398  11.204862  10.000080   \n1  01-Apr-2001   10.77335  10.020888  10.025045  10.342786   9.386033   \n2  01-Apr-2002   9.379179   8.486581   9.864623   9.487962  10.232624   \n3  01-Apr-2003  10.017709   9.482085  10.433054  10.060909   9.379115   \n4  01-Apr-2004   9.821178   9.959817   9.304840  10.553361   9.791334   \n\n    group_14   group_15   group_16  group_17  ...   group_20    group_3  \\\n0   9.957437   9.366857  10.019017  9.958579  ...   9.816199   9.528391   \n1  10.039840   9.895056   9.813690  9.903303  ...  10.937522   9.729937   \n2  11.681487   9.978239   9.611069  9.910267  ...  10.814165   9.584221   \n3  10.216647   9.792787   9.771448  9.804754  ...   9.657993  10.567198   \n4   9.876744  10.003894   9.879274  9.536919  ...  10.040601  12.674424   \n\n     group_4    group_5    group_6    group_7    group_8    group_9  year  \\\n0   9.682856  10.021460  10.634633  10.090673  10.032882   9.189847  2000   \n1   9.661809   9.998162  10.097819   9.961338  10.108989  10.224766  2001   \n2  10.889030   9.982543   9.813211  10.015782   9.535142   8.915741  2002   \n3  10.078124  10.175519   9.776505   9.105832   9.939589  10.259827  2003   \n4  10.354162  10.071010   9.904600   9.963596  10.352201  10.558290  2004   \n\n   month  \n0    Apr  \n1    Apr  \n2    Apr  \n3    Apr  \n4    Apr  \n\n[5 rows x 23 columns]",
      "text/html": "<div>\n<style scoped>\n    .dataframe tbody tr th:only-of-type {\n        vertical-align: middle;\n    }\n\n    .dataframe tbody tr th {\n        vertical-align: top;\n    }\n\n    .dataframe thead th {\n        text-align: right;\n    }\n</style>\n<table border=\"1\" class=\"dataframe\">\n  <thead>\n    <tr style=\"text-align: right;\">\n      <th></th>\n      <th>data</th>\n      <th>group_1</th>\n      <th>group_10</th>\n      <th>group_11</th>\n      <th>group_12</th>\n      <th>group_13</th>\n      <th>group_14</th>\n      <th>group_15</th>\n      <th>group_16</th>\n      <th>group_17</th>\n      <th>...</th>\n      <th>group_20</th>\n      <th>group_3</th>\n      <th>group_4</th>\n      <th>group_5</th>\n      <th>group_6</th>\n      <th>group_7</th>\n      <th>group_8</th>\n      <th>group_9</th>\n      <th>year</th>\n      <th>month</th>\n    </tr>\n  </thead>\n  <tbody>\n    <tr>\n      <th>0</th>\n      <td>01-Apr-2000</td>\n      <td>10.01135</td>\n      <td>9.987146</td>\n      <td>8.372398</td>\n      <td>11.204862</td>\n      <td>10.000080</td>\n      <td>9.957437</td>\n      <td>9.366857</td>\n      <td>10.019017</td>\n      <td>9.958579</td>\n      <td>...</td>\n      <td>9.816199</td>\n      <td>9.528391</td>\n      <td>9.682856</td>\n      <td>10.021460</td>\n      <td>10.634633</td>\n      <td>10.090673</td>\n      <td>10.032882</td>\n      <td>9.189847</td>\n      <td>2000</td>\n      <td>Apr</td>\n    </tr>\n    <tr>\n      <th>1</th>\n      <td>01-Apr-2001</td>\n      <td>10.77335</td>\n      <td>10.020888</td>\n      <td>10.025045</td>\n      <td>10.342786</td>\n      <td>9.386033</td>\n      <td>10.039840</td>\n      <td>9.895056</td>\n      <td>9.813690</td>\n      <td>9.903303</td>\n      <td>...</td>\n      <td>10.937522</td>\n      <td>9.729937</td>\n      <td>9.661809</td>\n      <td>9.998162</td>\n      <td>10.097819</td>\n      <td>9.961338</td>\n      <td>10.108989</td>\n      <td>10.224766</td>\n      <td>2001</td>\n      <td>Apr</td>\n    </tr>\n    <tr>\n      <th>2</th>\n      <td>01-Apr-2002</td>\n      <td>9.379179</td>\n      <td>8.486581</td>\n      <td>9.864623</td>\n      <td>9.487962</td>\n      <td>10.232624</td>\n      <td>11.681487</td>\n      <td>9.978239</td>\n      <td>9.611069</td>\n      <td>9.910267</td>\n      <td>...</td>\n      <td>10.814165</td>\n      <td>9.584221</td>\n      <td>10.889030</td>\n      <td>9.982543</td>\n      <td>9.813211</td>\n      <td>10.015782</td>\n      <td>9.535142</td>\n      <td>8.915741</td>\n      <td>2002</td>\n      <td>Apr</td>\n    </tr>\n    <tr>\n      <th>3</th>\n      <td>01-Apr-2003</td>\n      <td>10.017709</td>\n      <td>9.482085</td>\n      <td>10.433054</td>\n      <td>10.060909</td>\n      <td>9.379115</td>\n      <td>10.216647</td>\n      <td>9.792787</td>\n      <td>9.771448</td>\n      <td>9.804754</td>\n      <td>...</td>\n      <td>9.657993</td>\n      <td>10.567198</td>\n      <td>10.078124</td>\n      <td>10.175519</td>\n      <td>9.776505</td>\n      <td>9.105832</td>\n      <td>9.939589</td>\n      <td>10.259827</td>\n      <td>2003</td>\n      <td>Apr</td>\n    </tr>\n    <tr>\n      <th>4</th>\n      <td>01-Apr-2004</td>\n      <td>9.821178</td>\n      <td>9.959817</td>\n      <td>9.304840</td>\n      <td>10.553361</td>\n      <td>9.791334</td>\n      <td>9.876744</td>\n      <td>10.003894</td>\n      <td>9.879274</td>\n      <td>9.536919</td>\n      <td>...</td>\n      <td>10.040601</td>\n      <td>12.674424</td>\n      <td>10.354162</td>\n      <td>10.071010</td>\n      <td>9.904600</td>\n      <td>9.963596</td>\n      <td>10.352201</td>\n      <td>10.558290</td>\n      <td>2004</td>\n      <td>Apr</td>\n    </tr>\n  </tbody>\n</table>\n<p>5 rows × 23 columns</p>\n</div>"
     },
     "execution_count": 223,
     "metadata": {},
     "output_type": "execute_result"
    }
   ],
   "source": [
    "database_new = (database_new\n",
    "                .assign(year = lambda df: df[\"data\"].str.slice(7,11),\n",
    "                        month = lambda df: df[\"data\"].str.slice(3,6),\n",
    "                        )\n",
    "                )\n",
    "database_new.head()"
   ],
   "metadata": {
    "collapsed": false,
    "ExecuteTime": {
     "end_time": "2023-07-19T16:24:20.125475800Z",
     "start_time": "2023-07-19T16:24:20.096511900Z"
    }
   }
  },
  {
   "cell_type": "code",
   "execution_count": 225,
   "outputs": [],
   "source": [
    "database_new.to_csv(Path(output_dir, \"database_new.csv.zip\"), sep = \",\", decimal = \".\")\n",
    "\n",
    "(database_new\n",
    " .melt(id_vars = [\"data\", 'year', 'month'],\n",
    "       value_vars = ['group_1', 'group_10', 'group_11', 'group_12', 'group_13',\n",
    "                     'group_14', 'group_15', 'group_16', 'group_17', 'group_18', 'group_19',\n",
    "                     'group_2', 'group_20', 'group_3', 'group_4', 'group_5', 'group_6',\n",
    "                     'group_7', 'group_8', 'group_9'],\n",
    "       var_name = \"groups\",\n",
    "       value_name = \"y\"\n",
    "       )\n",
    " .to_csv(Path(output_dir, \"database_new_long.csv.zip\"), sep = \",\", decimal = \".\")\n",
    " )\n"
   ],
   "metadata": {
    "collapsed": false,
    "ExecuteTime": {
     "end_time": "2023-07-19T16:24:53.747928800Z",
     "start_time": "2023-07-19T16:24:53.684461900Z"
    }
   }
  }
 ],
 "metadata": {
  "kernelspec": {
   "display_name": "Python 3",
   "language": "python",
   "name": "python3"
  },
  "language_info": {
   "codemirror_mode": {
    "name": "ipython",
    "version": 2
   },
   "file_extension": ".py",
   "mimetype": "text/x-python",
   "name": "python",
   "nbconvert_exporter": "python",
   "pygments_lexer": "ipython2",
   "version": "2.7.6"
  }
 },
 "nbformat": 4,
 "nbformat_minor": 0
}
